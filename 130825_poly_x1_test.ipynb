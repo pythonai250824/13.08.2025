{
 "cells": [
  {
   "cell_type": "code",
   "execution_count": 1,
   "id": "1c769110-2154-4649-b708-94d0b7a630e8",
   "metadata": {},
   "outputs": [],
   "source": [
    "################################## import\n",
    "import numpy as np\n",
    "import matplotlib.pyplot as plt\n",
    "from sklearn.linear_model import LinearRegression\n",
    "from sklearn.preprocessing import PolynomialFeatures\n",
    "from sklearn.model_selection import train_test_split\n",
    "from sklearn.pipeline import Pipeline\n",
    "from sklearn.metrics import mean_squared_error, mean_absolute_error, r2_score"
   ]
  },
  {
   "cell_type": "code",
   "execution_count": 2,
   "id": "2a7d4102-e2dd-4884-a720-164b58f8d54c",
   "metadata": {},
   "outputs": [],
   "source": [
    "################################## data in np array\n",
    "X = np.array([50, 100, 150, 200, 250, 300, 350, 400, 450, 500]).reshape(-1, 1)\n",
    "y = np.array([7.5, 10.2, 12.8, 14.5, 15.6, 16.0, 15.8, 15.0, 13.5, 11.2])"
   ]
  },
  {
   "cell_type": "code",
   "execution_count": 3,
   "id": "6cc282fd-da55-40d3-a00b-35750e788360",
   "metadata": {},
   "outputs": [
    {
     "data": {
      "text/plain": [
       "<Figure size 800x500 with 0 Axes>"
      ]
     },
     "metadata": {},
     "output_type": "display_data"
    },
    {
     "data": {
      "image/png": "[encoded data removed]",
      "text/plain": [
       "<Figure size 800x500 with 1 Axes>"
      ]
     },
     "metadata": {},
     "output_type": "display_data"
    }
   ],
   "source": [
    "################################## scatter plot\n",
    "plt.figure(figsize=(8, 5))\n",
    "# create scatter plot of the points\n",
    "plt.figure(figsize=(8, 5))\n",
    "plt.scatter(X, y, label='Actual data', color='blue')\n",
    "plt.xlabel(\"Fertilizer (Kg)\")\n",
    "plt.ylabel(\"Potatoes (t)\")\n",
    "plt.title(\"Raw Data: Fertilizer vs Potatoes Yield\")\n",
    "plt.grid(True)"
   ]
  },
  {
   "cell_type": "code",
   "execution_count": 19,
   "id": "dbeae0fa-95fc-4a7f-b449-d0950e6b71e4",
   "metadata": {},
   "outputs": [
    {
     "name": "stdout",
     "output_type": "stream",
     "text": [
      "train MSE       : 0.001543\n",
      "train MAE       : 0.031774\n",
      "train RMSE      : 0.039279\n",
      "train R^2       : 0.999800\n",
      "train ADJ R^2   : 0.999921\n",
      "\n",
      "test MSE       : 0.027700\n",
      "test MAE       : 0.129436\n",
      "test RMSE      : 0.166434\n",
      "test R^2       : 0.995091\n"
     ]
    }
   ],
   "source": [
    "## train-test\n",
    "# linear\n",
    "################################## create the model - linear regression + fit + predict\n",
    "\n",
    "## poly 2nd level\n",
    "## bonus -- 2nd 3rd 4th level -- check evaluation\n",
    "\n",
    "# features generator\n",
    "# pipeline\n",
    "# 1 x x^2\n",
    "polynomial_model = Pipeline([\n",
    "    ('poly', PolynomialFeatures(degree=2)),\n",
    "    ('linear', LinearRegression())\n",
    "])\n",
    "\n",
    "X_train, X_test, y_train, y_test = train_test_split(X, y, test_size=0.3, random_state=42)\n",
    "\n",
    "polynomial_model.fit(X_train, y_train)\n",
    "y_pred_linear_train = polynomial_model.predict(X_train)\n",
    "y_pred_linear_test = polynomial_model.predict(X_test)\n",
    "\n",
    "### evaluation\n",
    "# MAE\n",
    "# MSE\n",
    "# RMSE\n",
    "# R^2\n",
    "# ADJ R\n",
    "from sklearn.metrics import mean_squared_error, mean_absolute_error, r2_score\n",
    "def adjusted_r2(r2, n, p):\n",
    "    mone = (1 - r2) * (n - 1)\n",
    "    mehane = (n - p - 1)\n",
    "    return 1 - (mone / mehane)\n",
    "\n",
    "#### train\n",
    "\n",
    "def print_evaluation(y_calc, true_y, msg):\n",
    "    mse_linear = mean_squared_error(true_y, y_calc)\n",
    "    mae_linear = mean_absolute_error(true_y, y_calc)\n",
    "    rmse_linear = np.sqrt(mse_linear)\n",
    "    r2_linear = r2_score(true_y, y_calc)\n",
    "    print(f\"{msg} MSE       : {mse_linear:.6f}\")\n",
    "    print(f\"{msg} MAE       : {mae_linear:.6f}\")\n",
    "    print(f\"{msg} RMSE      : {rmse_linear:.6f}\")\n",
    "    print(f\"{msg} R^2       : {r2_linear:.6f}\")\n",
    "\n",
    "print_evaluation(y_pred_linear_train, y_train, 'train')\n",
    "\n",
    "adj_r2 = adjusted_r2(r2_linear, n=len(y_train), p=X.shape[1])\n",
    "print(f\"train ADJ R^2   : {adj_r2:.6f}\")\n",
    "\n",
    "#### test\n",
    "\n",
    "print()\n",
    "print_evaluation(y_pred_linear_test, y_test, 'test')\n",
    "\n",
    "\n"
   ]
  },
  {
   "cell_type": "code",
   "execution_count": 28,
   "id": "a8f7eaeb-168a-4bd1-af93-7e4cedaca3fc",
   "metadata": {},
   "outputs": [
    {
     "name": "stdout",
     "output_type": "stream",
     "text": [
      "train MSE       : 0.000861\n",
      "train MAE       : 0.026061\n",
      "train RMSE      : 0.029345\n",
      "train R^2       : 0.999681\n",
      "train ADJ R^2   : 0.999918\n",
      "\n",
      "test MSE       : 0.018637\n",
      "test MAE       : 0.123712\n",
      "test RMSE      : 0.136519\n",
      "test R^2       : 0.998207\n"
     ]
    }
   ],
   "source": [
    "## train-test\n",
    "# polyfit\n",
    "\n",
    "X = np.array([50, 100, 150, 200, 250, 300, 350, 400, 450, 500])\n",
    "y = np.array([7.5, 10.2, 12.8, 14.5, 15.6, 16.0, 15.8, 15.0, 13.5, 11.2])\n",
    "\n",
    "\n",
    "X_train, X_test, y_train, y_test = train_test_split(X, y, test_size=0.4, random_state=42)\n",
    "\n",
    "coeffs_np = np.polyfit(X_train, y_train, deg=2)\n",
    "poly_function = np.poly1d(coeffs_np)  # generate math function\n",
    "\n",
    "y_pred_poly_train = poly_function(X_train)\n",
    "y_pred_poly_test = poly_function(X_test)\n",
    "\n",
    "### evaluation\n",
    "# MAE\n",
    "# MSE\n",
    "# RMSE\n",
    "# R^2\n",
    "# ADJ R\n",
    "\n",
    "from sklearn.metrics import mean_squared_error, mean_absolute_error, r2_score\n",
    "def adjusted_r2(r2, n, p):\n",
    "    mone = (1 - r2) * (n - 1)\n",
    "    mehane = (n - p - 1)\n",
    "    return 1 - (mone / mehane)\n",
    "\n",
    "#### train\n",
    "\n",
    "def print_evaluation(y_calc, true_y, msg):\n",
    "    mse_linear = mean_squared_error(true_y, y_calc)\n",
    "    mae_linear = mean_absolute_error(true_y, y_calc)\n",
    "    rmse_linear = np.sqrt(mse_linear)\n",
    "    r2_linear = r2_score(true_y, y_calc)\n",
    "    print(f\"{msg} MSE       : {mse_linear:.6f}\")\n",
    "    print(f\"{msg} MAE       : {mae_linear:.6f}\")\n",
    "    print(f\"{msg} RMSE      : {rmse_linear:.6f}\")\n",
    "    print(f\"{msg} R^2       : {r2_linear:.6f}\")\n",
    "\n",
    "print_evaluation(y_pred_poly_train, y_train, 'train')\n",
    "\n",
    "adj_r2 = adjusted_r2(r2_linear, n=len(y_train), p=1)\n",
    "print(f\"train ADJ R^2   : {adj_r2:.6f}\")\n",
    "\n",
    "#### test\n",
    "\n",
    "print()\n",
    "print_evaluation(y_pred_poly_test, y_test, 'test')\n",
    "\n"
   ]
  }
 ],
 "metadata": {
  "kernelspec": {
   "display_name": "Python 3 (ipykernel)",
   "language": "python",
   "name": "python3"
  },
  "language_info": {
   "codemirror_mode": {
    "name": "ipython",
    "version": 3
   },
   "file_extension": ".py",
   "mimetype": "text/x-python",
   "name": "python",
   "nbconvert_exporter": "python",
   "pygments_lexer": "ipython3",
   "version": "3.11.7"
  }
 },
 "nbformat": 4,
 "nbformat_minor": 5
}
