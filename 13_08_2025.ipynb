{
 "cells": [
  {
   "cell_type": "code",
   "execution_count": null,
   "id": "1c769110-2154-4649-b708-94d0b7a630e8",
   "metadata": {},
   "outputs": [],
   "source": [
    "################################## import\n",
    "import numpy as np\n",
    "import matplotlib.pyplot as plt\n",
    "from sklearn.linear_model import LinearRegression\n",
    "from sklearn.preprocessing import PolynomialFeatures\n",
    "from sklearn.pipeline import Pipeline\n",
    "from sklearn.metrics import mean_squared_error, mean_absolute_error, r2_score"
   ]
  },
  {
   "cell_type": "code",
   "execution_count": null,
   "id": "2a7d4102-e2dd-4884-a720-164b58f8d54c",
   "metadata": {},
   "outputs": [],
   "source": [
    "################################## data in np array\n",
    "X = np.array([50, 100, 150, 200, 250, 300, 350, 400, 450, 500]).reshape(-1, 1)\n",
    "y = np.array([7.5, 10.2, 12.8, 14.5, 15.6, 16.0, 15.8, 15.0, 13.5, 11.2])"
   ]
  },
  {
   "cell_type": "code",
   "execution_count": null,
   "id": "6cc282fd-da55-40d3-a00b-35750e788360",
   "metadata": {},
   "outputs": [],
   "source": [
    "################################## scatter plot\n",
    "plt.figure(figsize=(8, 5))\n",
    "# create scatter plot of the points"
   ]
  },
  {
   "cell_type": "code",
   "execution_count": null,
   "id": "dbeae0fa-95fc-4a7f-b449-d0950e6b71e4",
   "metadata": {},
   "outputs": [],
   "source": [
    "## no train-test\n",
    "################################## create the model - linear regression + fit + predict\n"
   ]
  }
 ],
 "metadata": {
  "kernelspec": {
   "display_name": "Python 3 (ipykernel)",
   "language": "python",
   "name": "python3"
  },
  "language_info": {
   "codemirror_mode": {
    "name": "ipython",
    "version": 3
   },
   "file_extension": ".py",
   "mimetype": "text/x-python",
   "name": "python",
   "nbconvert_exporter": "python",
   "pygments_lexer": "ipython3",
   "version": "3.11.7"
  }
 },
 "nbformat": 4,
 "nbformat_minor": 5
}
